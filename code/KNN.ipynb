{
 "cells": [
  {
   "cell_type": "code",
   "execution_count": null,
   "id": "a607f0d9",
   "metadata": {},
   "outputs": [],
   "source": [
    "import numpy as np\n",
    "import matplotlib.pyplot as plt\n",
    "import pandas as pd\n",
    "import pickle\n",
    "import Evaluation as eva\n",
    "### ML Classification models\n",
    "from sklearn.neighbors import KDTree # KD tree\n",
    "filename = '../models/KNN.model'\n"
   ]
  },
  {
   "cell_type": "code",
   "execution_count": null,
   "id": "6ab64bfd",
   "metadata": {},
   "outputs": [],
   "source": [
    "x_train=np.load(\"../data/x_train.npy\")\n",
    "y_train=np.load(\"../data/y_train.npy\")\n",
    "\n",
    "train_x = []\n",
    "test_x = []\n",
    "for t in x_train:\n",
    "    train_x.append(t.flatten())\n",
    "x_train = train_x"
   ]
  },
  {
   "cell_type": "code",
   "execution_count": null,
   "id": "bb9ad596",
   "metadata": {},
   "outputs": [],
   "source": [
    "# initialize a KNN model\n",
    "logreg = LogisticRegression(penalty='l1', solver='saga') # use LASSO to filter features "
   ]
  }
 ],
 "metadata": {
  "kernelspec": {
   "display_name": "Python 3 (ipykernel)",
   "language": "python",
   "name": "python3"
  },
  "language_info": {
   "codemirror_mode": {
    "name": "ipython",
    "version": 3
   },
   "file_extension": ".py",
   "mimetype": "text/x-python",
   "name": "python",
   "nbconvert_exporter": "python",
   "pygments_lexer": "ipython3",
   "version": "3.9.7"
  }
 },
 "nbformat": 4,
 "nbformat_minor": 5
}
