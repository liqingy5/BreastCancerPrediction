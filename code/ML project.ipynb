{
 "cells": [
  {
   "cell_type": "code",
   "execution_count": null,
   "id": "6587eabc",
   "metadata": {},
   "outputs": [],
   "source": [
    "import numpy as np\n",
    "import cv2\n",
    "from os import listdir\n",
    "import tensorflow as tf\n",
    "import pickle\n",
    "import pandas as pd\n",
    "from sklearn.preprocessing import LabelBinarizer, MultiLabelBinarizer\n",
    "from sklearn.model_selection import train_test_split\n",
    "from tensorflow.keras.models import Sequential\n",
    "from tensorflow.keras.layers import BatchNormalization\n",
    "from tensorflow.python.keras.layers.convolutional import Conv2D, MaxPooling2D\n",
    "from tensorflow.python.keras.layers.core import Activation, Flatten, Dropout, Dense, Reshape\n",
    "from tensorflow.keras.preprocessing.image import ImageDataGenerator\n",
    "from tensorflow.keras.preprocessing.image import img_to_array\n",
    "from tensorflow.keras.optimizers import Adam\n",
    "from tensorflow.keras.preprocessing import image\n",
    "from tensorflow.keras.callbacks import ModelCheckpoint, EarlyStopping\n",
    "from tensorflow.keras import regularizers\n",
    "import matplotlib.pyplot as plt\n",
    "from glob import glob\n",
    "%matplotlib inline"
   ]
  },
  {
   "cell_type": "code",
   "execution_count": null,
   "id": "e3e6a883",
   "metadata": {},
   "outputs": [],
   "source": [
    "imagePatches_0 = glob('data/0/*.png', recursive=True)\n",
    "imagePatches_1 = glob('data/1/*.png', recursive=True)\n",
    "len(imagePatches_0)"
   ]
  },
  {
   "cell_type": "code",
   "execution_count": null,
   "id": "e008f18e",
   "metadata": {},
   "outputs": [],
   "source": [
    "img_0=cv2.imread(imagePatches_0[0])\n",
    "img_1=cv2.imread(imagePatches_1[0])\n",
    "plt.subplot(1,2,1)\n",
    "plt.imshow(img_0)\n",
    "plt.subplot(1,2,2)\n",
    "plt.imshow(img_1)\n",
    "plt.show()\n",
    "print(img.shape)"
   ]
  },
  {
   "cell_type": "code",
   "execution_count": null,
   "id": "6aaec390",
   "metadata": {},
   "outputs": [],
   "source": [
    "images=[]\n",
    "labels=[]\n",
    "for i in imagePatches_0:\n",
    "    label=0\n",
    "    img=cv2.imread(i)\n",
    "    images.append(img)\n",
    "    labels.append(label)\n",
    "for i in imagePatches_1:\n",
    "    label=1\n",
    "    img=cv2.imread(i)\n",
    "    images.append(img)\n",
    "    labels.append(label)"
   ]
  },
  {
   "cell_type": "code",
   "execution_count": null,
   "id": "740a740a",
   "metadata": {},
   "outputs": [],
   "source": [
    "df = pd.DataFrame()\n",
    "df[\"images\"]=images\n",
    "df[\"labels\"]=labels"
   ]
  },
  {
   "cell_type": "code",
   "execution_count": null,
   "id": "751c41da",
   "metadata": {},
   "outputs": [],
   "source": [
    "df"
   ]
  },
  {
   "cell_type": "code",
   "execution_count": null,
   "id": "7176264a",
   "metadata": {},
   "outputs": [],
   "source": []
  }
 ],
 "metadata": {
  "kernelspec": {
   "display_name": "Python 3 (ipykernel)",
   "language": "python",
   "name": "python3"
  },
  "language_info": {
   "codemirror_mode": {
    "name": "ipython",
    "version": 3
   },
   "file_extension": ".py",
   "mimetype": "text/x-python",
   "name": "python",
   "nbconvert_exporter": "python",
   "pygments_lexer": "ipython3",
   "version": "3.9.7"
  }
 },
 "nbformat": 4,
 "nbformat_minor": 5
}
