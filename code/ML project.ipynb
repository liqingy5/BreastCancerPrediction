{
 "cells": [
  {
   "cell_type": "code",
   "execution_count": 11,
   "id": "6587eabc",
   "metadata": {},
   "outputs": [],
   "source": [
    "import numpy as np\n",
    "import cv2\n",
    "from os import listdir\n",
    "import tensorflow as tf\n",
    "import pickle\n",
    "import pandas as pd\n",
    "from sklearn.preprocessing import LabelBinarizer, MultiLabelBinarizer\n",
    "from sklearn.model_selection import train_test_split\n",
    "from tensorflow.keras.models import Sequential\n",
    "from tensorflow.keras.layers import BatchNormalization\n",
    "from tensorflow.python.keras.layers.convolutional import Conv2D, MaxPooling2D\n",
    "from tensorflow.python.keras.layers.core import Activation, Flatten, Dropout, Dense, Reshape\n",
    "from tensorflow.keras.preprocessing.image import ImageDataGenerator\n",
    "from tensorflow.keras.preprocessing.image import img_to_array\n",
    "from tensorflow.keras.optimizers import Adam\n",
    "from tensorflow.keras.preprocessing import image\n",
    "from tensorflow.keras.callbacks import ModelCheckpoint, EarlyStopping\n",
    "from tensorflow.keras import regularizers\n",
    "import matplotlib.pyplot as plt\n",
    "from glob import glob\n",
    "%matplotlib inline"
   ]
  },
  {
   "cell_type": "code",
   "execution_count": 12,
   "id": "e3e6a883",
   "metadata": {},
   "outputs": [
    {
     "data": {
      "text/plain": [
       "7160"
      ]
     },
     "execution_count": 12,
     "metadata": {},
     "output_type": "execute_result"
    }
   ],
   "source": [
    "imagePatches_0 = glob('data/0/*.png', recursive=True)\n",
    "imagePatches_1 = glob('data/1/*.png', recursive=True)\n",
    "len(imagePatches_0)"
   ]
  },
  {
   "cell_type": "code",
   "execution_count": 13,
   "id": "e008f18e",
   "metadata": {},
   "outputs": [
    {
     "data": {
      "image/png": "[encoded data removed]",
      "text/plain": [
       "<Figure size 432x288 with 2 Axes>"
      ]
     },
     "metadata": {
      "needs_background": "light"
     },
     "output_type": "display_data"
    },
    {
     "name": "stdout",
     "output_type": "stream",
     "text": [
      "(50, 50, 3)\n"
     ]
    }
   ],
   "source": [
    "img_0=cv2.imread(imagePatches_0[0])\n",
    "img_1=cv2.imread(imagePatches_1[0])\n",
    "plt.subplot(1,2,1)\n",
    "plt.imshow(img_0)\n",
    "plt.subplot(1,2,2)\n",
    "plt.imshow(img_1)\n",
    "plt.show()\n",
    "print(img.shape)"
   ]
  },
  {
   "cell_type": "code",
   "execution_count": 17,
   "id": "6aaec390",
   "metadata": {},
   "outputs": [],
   "source": [
    "images=[]\n",
    "labels=[]\n",
    "for i in imagePatches_0:\n",
    "    label=0\n",
    "    img=cv2.imread(i)\n",
    "    images.append(img)\n",
    "    labels.append(label)\n",
    "for i in imagePatches_1:\n",
    "    label=1\n",
    "    img=cv2.imread(i)\n",
    "    images.append(img)\n",
    "    labels.append(label)"
   ]
  },
  {
   "cell_type": "code",
   "execution_count": 18,
   "id": "740a740a",
   "metadata": {},
   "outputs": [],
   "source": [
    "df = pd.DataFrame()\n",
    "df[\"images\"]=images\n",
    "df[\"labels\"]=labels"
   ]
  },
  {
   "cell_type": "code",
   "execution_count": 19,
   "id": "751c41da",
   "metadata": {},
   "outputs": [
    {
     "data": {
      "text/html": [
       "<div>\n",
       "<style scoped>\n",
       "    .dataframe tbody tr th:only-of-type {\n",
       "        vertical-align: middle;\n",
       "    }\n",
       "\n",
       "    .dataframe tbody tr th {\n",
       "        vertical-align: top;\n",
       "    }\n",
       "\n",
       "    .dataframe thead th {\n",
       "        text-align: right;\n",
       "    }\n",
       "</style>\n",
       "<table border=\"1\" class=\"dataframe\">\n",
       "  <thead>\n",
       "    <tr style=\"text-align: right;\">\n",
       "      <th></th>\n",
       "      <th>images</th>\n",
       "      <th>labels</th>\n",
       "    </tr>\n",
       "  </thead>\n",
       "  <tbody>\n",
       "    <tr>\n",
       "      <th>0</th>\n",
       "      <td>[[[206, 164, 226], [196, 154, 224], [211, 175,...</td>\n",
       "      <td>0</td>\n",
       "    </tr>\n",
       "    <tr>\n",
       "      <th>1</th>\n",
       "      <td>[[[197, 150, 219], [201, 158, 217], [205, 173,...</td>\n",
       "      <td>0</td>\n",
       "    </tr>\n",
       "    <tr>\n",
       "      <th>2</th>\n",
       "      <td>[[[249, 245, 248], [248, 246, 248], [253, 246,...</td>\n",
       "      <td>0</td>\n",
       "    </tr>\n",
       "    <tr>\n",
       "      <th>3</th>\n",
       "      <td>[[[249, 247, 249], [249, 247, 249], [249, 247,...</td>\n",
       "      <td>0</td>\n",
       "    </tr>\n",
       "    <tr>\n",
       "      <th>4</th>\n",
       "      <td>[[[237, 231, 241], [245, 242, 246], [235, 222,...</td>\n",
       "      <td>0</td>\n",
       "    </tr>\n",
       "    <tr>\n",
       "      <th>...</th>\n",
       "      <td>...</td>\n",
       "      <td>...</td>\n",
       "    </tr>\n",
       "    <tr>\n",
       "      <th>9995</th>\n",
       "      <td>[[[232, 225, 237], [197, 174, 226], [210, 191,...</td>\n",
       "      <td>1</td>\n",
       "    </tr>\n",
       "    <tr>\n",
       "      <th>9996</th>\n",
       "      <td>[[[238, 232, 239], [225, 218, 234], [204, 178,...</td>\n",
       "      <td>1</td>\n",
       "    </tr>\n",
       "    <tr>\n",
       "      <th>9997</th>\n",
       "      <td>[[[119, 73, 98], [144, 108, 142], [128, 86, 13...</td>\n",
       "      <td>1</td>\n",
       "    </tr>\n",
       "    <tr>\n",
       "      <th>9998</th>\n",
       "      <td>[[[156, 99, 171], [137, 80, 145], [118, 61, 10...</td>\n",
       "      <td>1</td>\n",
       "    </tr>\n",
       "    <tr>\n",
       "      <th>9999</th>\n",
       "      <td>[[[130, 66, 146], [145, 84, 160], [136, 70, 14...</td>\n",
       "      <td>1</td>\n",
       "    </tr>\n",
       "  </tbody>\n",
       "</table>\n",
       "<p>10000 rows × 2 columns</p>\n",
       "</div>"
      ],
      "text/plain": [
       "                                                 images  labels\n",
       "0     [[[206, 164, 226], [196, 154, 224], [211, 175,...       0\n",
       "1     [[[197, 150, 219], [201, 158, 217], [205, 173,...       0\n",
       "2     [[[249, 245, 248], [248, 246, 248], [253, 246,...       0\n",
       "3     [[[249, 247, 249], [249, 247, 249], [249, 247,...       0\n",
       "4     [[[237, 231, 241], [245, 242, 246], [235, 222,...       0\n",
       "...                                                 ...     ...\n",
       "9995  [[[232, 225, 237], [197, 174, 226], [210, 191,...       1\n",
       "9996  [[[238, 232, 239], [225, 218, 234], [204, 178,...       1\n",
       "9997  [[[119, 73, 98], [144, 108, 142], [128, 86, 13...       1\n",
       "9998  [[[156, 99, 171], [137, 80, 145], [118, 61, 10...       1\n",
       "9999  [[[130, 66, 146], [145, 84, 160], [136, 70, 14...       1\n",
       "\n",
       "[10000 rows x 2 columns]"
      ]
     },
     "execution_count": 19,
     "metadata": {},
     "output_type": "execute_result"
    }
   ],
   "source": [
    "df"
   ]
  },
  {
   "cell_type": "code",
   "execution_count": null,
   "id": "7176264a",
   "metadata": {},
   "outputs": [],
   "source": []
  }
 ],
 "metadata": {
  "kernelspec": {
   "display_name": "Python 3 (ipykernel)",
   "language": "python",
   "name": "python3"
  },
  "language_info": {
   "codemirror_mode": {
    "name": "ipython",
    "version": 3
   },
   "file_extension": ".py",
   "mimetype": "text/x-python",
   "name": "python",
   "nbconvert_exporter": "python",
   "pygments_lexer": "ipython3",
   "version": "3.9.7"
  }
 },
 "nbformat": 4,
 "nbformat_minor": 5
}
