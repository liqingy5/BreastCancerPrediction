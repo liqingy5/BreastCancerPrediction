{
 "cells": [
  {
   "cell_type": "code",
   "execution_count": null,
   "id": "a607f0d9",
   "metadata": {},
   "outputs": [],
   "source": [
    "import numpy as np\n",
    "import matplotlib.pyplot as plt\n",
    "import pandas as pd\n",
    "import pickle\n",
    "import Evaluation as eva\n",
    "### ML Classification models\n",
    "from sklearn.neighbors import KNeighborsClassifier # KD tree\n",
    "filename = 'KD'\n"
   ]
  },
  {
   "cell_type": "code",
   "execution_count": null,
   "id": "6ab64bfd",
   "metadata": {},
   "outputs": [],
   "source": [
    "import utils\n",
    "x_train, x_test, y_train, y_test = utils.load_standard_data()"
   ]
  },
  {
   "cell_type": "code",
   "execution_count": null,
   "id": "bb9ad596",
   "metadata": {},
   "outputs": [],
   "source": [
    "# initialize a KNN model\n",
    "tree = KNeighborsClassifier(weights='distance',algorithm='kd_tree',leaf_size=20,n_neighbors=3)\n",
    "tree.fit(x_train, y_train)"
   ]
  },
  {
   "cell_type": "code",
   "execution_count": null,
   "id": "b7b7a2ec",
   "metadata": {},
   "outputs": [],
   "source": [
    "# save the model to disk\n",
    "pickle.dump(tree, open(f'../models/{filename}.model', 'wb'))"
   ]
  },
  {
   "cell_type": "code",
   "execution_count": null,
   "id": "3637a033",
   "metadata": {},
   "outputs": [],
   "source": [
    "\n"
   ]
  },
  {
   "cell_type": "code",
   "execution_count": null,
   "id": "cfd5d459",
   "metadata": {},
   "outputs": [],
   "source": []
  }
 ],
 "metadata": {
  "kernelspec": {
   "display_name": "Python 3 (ipykernel)",
   "language": "python",
   "name": "python3"
  },
  "language_info": {
   "codemirror_mode": {
    "name": "ipython",
    "version": 3
   },
   "file_extension": ".py",
   "mimetype": "text/x-python",
   "name": "python",
   "nbconvert_exporter": "python",
   "pygments_lexer": "ipython3",
   "version": "3.9.7"
  }
 },
 "nbformat": 4,
 "nbformat_minor": 5
}
