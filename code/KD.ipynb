{
 "cells": [
  {
   "cell_type": "code",
   "execution_count": null,
   "id": "a607f0d9",
   "metadata": {},
   "outputs": [],
   "source": [
    "import pickle\n",
    "### ML Classification models\n",
    "from sklearn.neighbors import KNeighborsClassifier # KD tree\n",
    "filename = 'KD_oversampled'\n",
    "_type_ = 'oversampled'\n",
    "_neighbors_ = 101 if _type_=='standard' else 141\n",
    "import os\n",
    "if not os.path.exists('../models'):\n",
    "    os.makedirs(\"../models\")"
   ]
  },
  {
   "cell_type": "code",
   "execution_count": null,
   "id": "6ab64bfd",
   "metadata": {},
   "outputs": [],
   "source": [
    "import utils\n",
    "x_train, x_test, y_train, y_test = utils.load_standard_data(data_type=_type_)\n"
   ]
  },
  {
   "cell_type": "code",
   "execution_count": null,
   "id": "bb9ad596",
   "metadata": {},
   "outputs": [],
   "source": [
    "# initialize a KNN model\n",
    "\n",
    "tree = KNeighborsClassifier(weights='distance',algorithm='kd_tree',n_neighbors=_neighbors_)\n",
    "tree.fit(x_train, y_train)\n",
    "from sklearn.metrics import roc_auc_score\n",
    "probs_predict = tree.predict_proba(x_test)\n",
    "probs_predict = probs_predict[:,1]\n",
    "auc = roc_auc_score(y_test,probs_predict)\n",
    "print(auc)"
   ]
  },
  {
   "cell_type": "code",
   "execution_count": null,
   "id": "b7b7a2ec",
   "metadata": {},
   "outputs": [],
   "source": [
    "# save the model to disk\n",
    "pickle.dump(tree, open(f'../models/{filename}.model', 'wb'))"
   ]
  },
  {
   "cell_type": "code",
   "execution_count": null,
   "id": "3637a033",
   "metadata": {},
   "outputs": [],
   "source": [
    "\n"
   ]
  },
  {
   "cell_type": "code",
   "execution_count": null,
   "id": "cfd5d459",
   "metadata": {},
   "outputs": [],
   "source": []
  }
 ],
 "metadata": {
  "kernelspec": {
   "display_name": "Python 3 (ipykernel)",
   "language": "python",
   "name": "python3"
  },
  "language_info": {
   "codemirror_mode": {
    "name": "ipython",
    "version": 3
   },
   "file_extension": ".py",
   "mimetype": "text/x-python",
   "name": "python",
   "nbconvert_exporter": "python",
   "pygments_lexer": "ipython3",
   "version": "3.9.7"
  }
 },
 "nbformat": 4,
 "nbformat_minor": 5
}
