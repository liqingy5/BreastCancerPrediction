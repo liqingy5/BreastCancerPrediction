{
 "cells": [
  {
   "cell_type": "code",
   "execution_count": null,
   "id": "bf413459",
   "metadata": {},
   "outputs": [],
   "source": [
    "import os\n",
    "import numpy as np \n",
    "import pandas as pd \n",
    "from PIL import Image\n",
    "import matplotlib.pylab as plt\n",
    "import cv2\n",
    "import seaborn as sns\n",
    "from glob import glob\n",
    "import pickle\n",
    "import random\n",
    "__foldername0__ = \"../data/0/\"\n",
    "__foldername1__ = \"../data/1/\"\n",
    "__foldername0__oversampled__ = \"../data/0_oversampled/\"\n",
    "__foldername1__oversampled__ = \"../data/1_oversampled/\"\n",
    "imagePatches_0 = glob(f'{__foldername0__}/*.png', recursive=True)\n",
    "imagePatches_1 = glob(f'{__foldername1__}/*.png', recursive=True)\n",
    "imagePatches_0_oversampled = glob(f'{__foldername0__oversampled__}/*.png', recursive=True)\n",
    "imagePatches_1_oversampled = glob(f'{__foldername1__oversampled__}/*.png', recursive=True)"
   ]
  },
  {
   "cell_type": "code",
   "execution_count": null,
   "id": "85a96b7c",
   "metadata": {},
   "outputs": [],
   "source": [
    "def fetch_images(imagePatches_0,imagePatches_1,isAlexnet=False):\n",
    "    images=[]\n",
    "    labels=[]\n",
    "    _size = 50\n",
    "    _color = 0\n",
    "    if isAlexnet:\n",
    "        _size = 227\n",
    "    \n",
    "    for i in imagePatches_0:\n",
    "        label=0\n",
    "        img=cv2.imread(i,_color)\n",
    "        images.append(cv2.resize(img,(_size,_size),interpolation=cv2.INTER_LINEAR))\n",
    "        labels.append(label)\n",
    "    for i in imagePatches_1:\n",
    "        label=1\n",
    "        img=cv2.imread(i,_color)\n",
    "        images.append(cv2.resize(img,(_size,_size),interpolation=cv2.INTER_LINEAR))\n",
    "        labels.append(label)\n",
    "    return images,labels"
   ]
  },
  {
   "cell_type": "code",
   "execution_count": null,
   "id": "b5ee4b2d",
   "metadata": {},
   "outputs": [],
   "source": [
    "def data_preprocess(data_type = \"standard\",isAlexnet = False):\n",
    "\n",
    "\n",
    "    if data_type == \"oversampled\":\n",
    "        images,labels = fetch_images(imagePatches_0_oversampled,imagePatches_1_oversampled,isAlexnet)\n",
    "    else:\n",
    "        images,labels = fetch_images(imagePatches_0,imagePatches_1,isAlexnet)\n",
    "    images=np.array(images)\n",
    "    labels = np.array(labels)\n",
    "    post_fix = \"\" if data_type == \"standard\" else \"_oversampled\"\n",
    "    post_fix +=\"_Alexnet\" if isAlexnet else \"\"\n",
    "    np.save(f\"../data/images{post_fix}.npy\",images)\n",
    "    np.save(f\"../data/labels{post_fix}.npy\",labels)"
   ]
  },
  {
   "cell_type": "markdown",
   "id": "a9ee1e60",
   "metadata": {},
   "source": [
    "### Same ratio"
   ]
  },
  {
   "cell_type": "code",
   "execution_count": null,
   "id": "a95b16a9",
   "metadata": {},
   "outputs": [],
   "source": [
    "data_preprocess()"
   ]
  },
  {
   "cell_type": "code",
   "execution_count": null,
   "id": "ed6161e7",
   "metadata": {},
   "outputs": [],
   "source": [
    "import utils\n",
    "x_train,x_test,y_train,y_test = utils.load_standard_data()\n",
    "print(x_train)"
   ]
  },
  {
   "cell_type": "code",
   "execution_count": null,
   "id": "468887ef",
   "metadata": {},
   "outputs": [],
   "source": [
    "print(x_train.shape,y_train.shape)\n",
    "print(x_test.shape,y_test.shape)"
   ]
  },
  {
   "cell_type": "code",
   "execution_count": null,
   "id": "1a185639",
   "metadata": {},
   "outputs": [],
   "source": [
    "sns.set()\n",
    "sns.countplot(y_train, palette=\"Set1\")"
   ]
  },
  {
   "cell_type": "code",
   "execution_count": null,
   "id": "1f4c8146",
   "metadata": {},
   "outputs": [],
   "source": [
    "sns.countplot(y_test, palette=\"Set2\")"
   ]
  },
  {
   "cell_type": "code",
   "execution_count": null,
   "id": "14b78c2e",
   "metadata": {},
   "outputs": [],
   "source": [
    "temp = x_train[0].reshape(50,50)\n",
    "fig, ax = plt.subplots()\n",
    "plt.imshow(temp)\n",
    "ax.axis(\"off\")\n",
    "temp = x_test[1].reshape(50,50)\n",
    "fig, ax = plt.subplots()\n",
    "plt.imshow(temp)\n",
    "ax.axis(\"off\")"
   ]
  },
  {
   "cell_type": "code",
   "execution_count": null,
   "id": "eeb73927",
   "metadata": {},
   "outputs": [],
   "source": [
    "del x_train,x_test,y_train,y_test"
   ]
  },
  {
   "cell_type": "markdown",
   "id": "4d840fbf",
   "metadata": {},
   "source": [
    "### Oversampled "
   ]
  },
  {
   "cell_type": "code",
   "execution_count": null,
   "metadata": {},
   "outputs": [],
   "source": [
    "data_preprocess(\"oversampled\")"
   ]
  },
  {
   "cell_type": "code",
   "execution_count": null,
   "id": "11be61aa",
   "metadata": {},
   "outputs": [],
   "source": [
    "import utils\n",
    "x_train,x_test,y_train,y_test = utils.load_standard_data(\"oversampled\")\n",
    "print(x_train)"
   ]
  },
  {
   "cell_type": "code",
   "execution_count": null,
   "id": "bcda7afe",
   "metadata": {},
   "outputs": [],
   "source": [
    "print(x_train.shape,y_train.shape)\n",
    "print(x_test.shape,y_test.shape)"
   ]
  },
  {
   "cell_type": "code",
   "execution_count": null,
   "id": "99f6b41e",
   "metadata": {},
   "outputs": [],
   "source": [
    "sns.set()\n",
    "sns.countplot(y_train, palette=\"Set1\")"
   ]
  },
  {
   "cell_type": "code",
   "execution_count": null,
   "id": "ac067a2e",
   "metadata": {},
   "outputs": [],
   "source": [
    "sns.countplot(y_test, palette=\"Set2\")"
   ]
  },
  {
   "cell_type": "code",
   "execution_count": null,
   "id": "b1d9fbd4",
   "metadata": {},
   "outputs": [],
   "source": [
    "temp = x_train[0].reshape(50,50)\n",
    "fig, ax = plt.subplots()\n",
    "plt.imshow(temp)\n",
    "ax.axis(\"off\")\n",
    "temp = x_test[1].reshape(50,50)\n",
    "fig, ax = plt.subplots()\n",
    "plt.imshow(temp)\n",
    "ax.axis(\"off\")"
   ]
  },
  {
   "cell_type": "code",
   "execution_count": null,
   "id": "32f19063",
   "metadata": {},
   "outputs": [],
   "source": [
    "del x_train,x_test,y_train,y_test"
   ]
  },
  {
   "cell_type": "markdown",
   "id": "0cab0a9f",
   "metadata": {},
   "source": [
    "### Data preprocess for Alexnet purpose"
   ]
  },
  {
   "cell_type": "markdown",
   "id": "ae419020",
   "metadata": {},
   "source": [
    "### Standard"
   ]
  },
  {
   "cell_type": "code",
   "execution_count": null,
   "id": "f40252a3",
   "metadata": {},
   "outputs": [],
   "source": [
    "data_preprocess(isAlexnet=True)"
   ]
  },
  {
   "cell_type": "code",
   "execution_count": null,
   "id": "c906359b",
   "metadata": {},
   "outputs": [],
   "source": [
    "import utils\n",
    "x_train,x_test,y_train,y_test = utils.load_standard_data(isAlexnet=True)\n",
    "print(x_train)"
   ]
  },
  {
   "cell_type": "code",
   "execution_count": null,
   "id": "2cd9982a",
   "metadata": {},
   "outputs": [],
   "source": [
    "print(x_train.shape,y_train.shape)\n",
    "print(x_test.shape,y_test.shape)\n",
    "print(x_train[0].shape)"
   ]
  },
  {
   "cell_type": "code",
   "execution_count": null,
   "id": "24fd53e3",
   "metadata": {},
   "outputs": [],
   "source": [
    "sns.set()\n",
    "sns.countplot(y_train, palette=\"Set1\")"
   ]
  },
  {
   "cell_type": "code",
   "execution_count": null,
   "id": "7e94810a",
   "metadata": {},
   "outputs": [],
   "source": [
    "sns.countplot(y_test, palette=\"Set2\")"
   ]
  },
  {
   "cell_type": "code",
   "execution_count": null,
   "id": "8327fb2e",
   "metadata": {},
   "outputs": [],
   "source": [
    "temp = x_train[0]\n",
    "fig, ax = plt.subplots()\n",
    "plt.imshow(temp)\n",
    "ax.axis(\"off\")\n",
    "temp = x_test[1]\n",
    "fig, ax = plt.subplots()\n",
    "plt.imshow(temp)\n",
    "ax.axis(\"off\")"
   ]
  },
  {
   "cell_type": "code",
   "execution_count": null,
   "id": "bbd022e7",
   "metadata": {},
   "outputs": [],
   "source": [
    "del x_train,x_test,y_train,y_test"
   ]
  },
  {
   "cell_type": "markdown",
   "id": "619d942e",
   "metadata": {},
   "source": [
    "### Oversampled"
   ]
  },
  {
   "cell_type": "code",
   "execution_count": null,
   "id": "16130072",
   "metadata": {},
   "outputs": [],
   "source": [
    "data_preprocess(data_type=\"oversampled\",isAlexnet=True)"
   ]
  },
  {
   "cell_type": "code",
   "execution_count": null,
   "id": "3a54c31f",
   "metadata": {},
   "outputs": [],
   "source": [
    "import utils\n",
    "x_train,x_test,y_train,y_test = utils.load_standard_data(data_type=\"oversampled\",isAlexnet=True)\n",
    "print(x_train)"
   ]
  },
  {
   "cell_type": "code",
   "execution_count": null,
   "id": "f2b7cfad",
   "metadata": {},
   "outputs": [],
   "source": [
    "print(x_train.shape,y_train.shape)\n",
    "print(x_test.shape,y_test.shape)"
   ]
  },
  {
   "cell_type": "code",
   "execution_count": null,
   "id": "7cca0f33",
   "metadata": {},
   "outputs": [],
   "source": [
    "sns.set()\n",
    "sns.countplot(y_train, palette=\"Set1\")"
   ]
  },
  {
   "cell_type": "code",
   "execution_count": null,
   "id": "d99a82bb",
   "metadata": {},
   "outputs": [],
   "source": [
    "sns.countplot(y_test, palette=\"Set2\")"
   ]
  },
  {
   "cell_type": "code",
   "execution_count": null,
   "id": "5b04a16d",
   "metadata": {},
   "outputs": [],
   "source": [
    "temp = x_train[0]\n",
    "fig, ax = plt.subplots()\n",
    "plt.imshow(temp)\n",
    "ax.axis(\"off\")\n",
    "temp = x_test[1]\n",
    "fig, ax = plt.subplots()\n",
    "plt.imshow(temp)\n",
    "ax.axis(\"off\")"
   ]
  },
  {
   "cell_type": "markdown",
   "id": "680b82dc",
   "metadata": {},
   "source": [
    "### Free memory"
   ]
  },
  {
   "cell_type": "code",
   "execution_count": null,
   "id": "6e4c513f",
   "metadata": {},
   "outputs": [],
   "source": [
    "del x_train,x_test,y_train,y_test"
   ]
  }
 ],
 "metadata": {
  "kernelspec": {
   "display_name": "Python 3 (ipykernel)",
   "language": "python",
   "name": "python3"
  },
  "language_info": {
   "codemirror_mode": {
    "name": "ipython",
    "version": 3
   },
   "file_extension": ".py",
   "mimetype": "text/x-python",
   "name": "python",
   "nbconvert_exporter": "python",
   "pygments_lexer": "ipython3",
   "version": "3.9.7"
  }
 },
 "nbformat": 4,
 "nbformat_minor": 5
}
