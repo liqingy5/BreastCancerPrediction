{
 "cells": [
  {
   "cell_type": "code",
   "execution_count": null,
   "id": "bf413459",
   "metadata": {},
   "outputs": [],
   "source": [
    "import os\n",
    "import numpy as np \n",
    "import pandas as pd \n",
    "from PIL import Image\n",
    "import matplotlib.pylab as plt\n",
    "import cv2\n",
    "import seaborn as sns\n",
    "from glob import glob\n",
    "import pickle\n",
    "__foldername0__ = \"../data/0/\"\n",
    "__foldername1__ = \"../data/1/\"\n",
    "imagePatches_0 = glob(f'{__foldername0__}/*.png', recursive=True)\n",
    "imagePatches_1 = glob(f'{__foldername1__}/*.png', recursive=True)"
   ]
  },
  {
   "cell_type": "code",
   "execution_count": null,
   "id": "85a96b7c",
   "metadata": {},
   "outputs": [],
   "source": [
    "def fetch_images(imagePatches_0,imagePatches_1):\n",
    "    images=[]\n",
    "    labels=[]\n",
    "    for i in imagePatches_0:\n",
    "        label=0\n",
    "        img=cv2.imread(i,0)\n",
    "        images.append(cv2.resize(img,(50,50),interpolation=cv2.INTER_CUBIC))\n",
    "        labels.append(label)\n",
    "    for i in imagePatches_1:\n",
    "        label=1\n",
    "        img=cv2.imread(i,0)\n",
    "        images.append(cv2.resize(img,(50,50),interpolation=cv2.INTER_CUBIC))\n",
    "        labels.append(label)\n",
    "    return images,labels"
   ]
  },
  {
   "cell_type": "code",
   "execution_count": null,
   "id": "a95b16a9",
   "metadata": {},
   "outputs": [],
   "source": [
    "images,labels = fetch_images(imagePatches_0,imagePatches_1)\n",
    "images=np.array(images)\n",
    "labels = np.array(labels)\n",
    "np.save('../data/images.npy',images)\n",
    "np.save('../data/labels.npy',labels)"
   ]
  },
  {
   "cell_type": "code",
   "execution_count": null,
   "id": "ed6161e7",
   "metadata": {},
   "outputs": [],
   "source": [
    "import utils\n",
    "x_train,x_test,y_train,y_test = utils.load_standard_data()\n",
    "print(x_train)"
   ]
  },
  {
   "cell_type": "code",
   "execution_count": null,
   "id": "468887ef",
   "metadata": {},
   "outputs": [],
   "source": [
    "print(x_train.shape,y_train.shape)\n",
    "print(x_test.shape,y_test.shape)"
   ]
  },
  {
   "cell_type": "code",
   "execution_count": null,
   "id": "1a185639",
   "metadata": {},
   "outputs": [],
   "source": [
    "sns.set()\n",
    "sns.countplot(y_train, palette=\"Set1\")"
   ]
  },
  {
   "cell_type": "code",
   "execution_count": null,
   "id": "1f4c8146",
   "metadata": {},
   "outputs": [],
   "source": [
    "sns.countplot(y_test, palette=\"Set2\")"
   ]
  },
  {
   "cell_type": "code",
   "execution_count": null,
   "id": "14b78c2e",
   "metadata": {},
   "outputs": [],
   "source": [
    "temp = x_train[0].reshape(50,50)\n",
    "fig, ax = plt.subplots()\n",
    "plt.imshow(temp)\n",
    "ax.axis(\"off\")\n",
    "temp = x_test[1].reshape(50,50)\n",
    "fig, ax = plt.subplots()\n",
    "plt.imshow(temp)\n",
    "ax.axis(\"off\")"
   ]
  },
  {
   "cell_type": "code",
   "execution_count": null,
   "id": "11be61aa",
   "metadata": {},
   "outputs": [],
   "source": []
  },
  {
   "cell_type": "code",
   "execution_count": null,
   "id": "bcda7afe",
   "metadata": {},
   "outputs": [],
   "source": []
  },
  {
   "cell_type": "code",
   "execution_count": null,
   "id": "99f6b41e",
   "metadata": {},
   "outputs": [],
   "source": []
  }
 ],
 "metadata": {
  "kernelspec": {
   "display_name": "Python 3 (ipykernel)",
   "language": "python",
   "name": "python3"
  },
  "language_info": {
   "codemirror_mode": {
    "name": "ipython",
    "version": 3
   },
   "file_extension": ".py",
   "mimetype": "text/x-python",
   "name": "python",
   "nbconvert_exporter": "python",
   "pygments_lexer": "ipython3",
   "version": "3.9.7"
  }
 },
 "nbformat": 4,
 "nbformat_minor": 5
}
