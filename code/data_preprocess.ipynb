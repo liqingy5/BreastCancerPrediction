{
 "cells": [
  {
   "cell_type": "code",
   "execution_count": null,
   "id": "bf413459",
   "metadata": {},
   "outputs": [],
   "source": [
    "import os\n",
    "import numpy as np \n",
    "import pandas as pd \n",
    "from PIL import Image\n",
    "import matplotlib.pylab as plt\n",
    "import cv2\n",
    "import seaborn as sns\n",
    "__foldername0__ = \"../data/0/\"\n",
    "__foldername1__ = \"../data/1/\""
   ]
  },
  {
   "cell_type": "code",
   "execution_count": null,
   "id": "85a96b7c",
   "metadata": {},
   "outputs": [],
   "source": [
    "def fetch_images(name,label):\n",
    "    images = []\n",
    "    labels = []\n",
    "    for file in (os.listdir(name)):\n",
    "        images.append(name+file)\n",
    "        labels.append(label)\n",
    "    #     x_image = image.resize((50,50))\n",
    "    #     x_image = np.array(x_image)\n",
    "    #     images.append(x_image) \n",
    "    #     labels.append(label)\n",
    "    images = np.stack(images)\n",
    "    labels = np.stack(labels)\n",
    "    # images = images/255 #normalized\n",
    "    return images,labels"
   ]
  },
  {
   "cell_type": "code",
   "execution_count": null,
   "id": "a95b16a9",
   "metadata": {},
   "outputs": [],
   "source": [
    "images_0,labels_0 = fetch_images(__foldername0__,0)\n",
    "images_1,labels_1 = fetch_images(__foldername1__,1)\n",
    "print(images_0.shape,images_1.shape)\n",
    "print(labels_0.shape,labels_1.shape)\n",
    "images = np.concatenate((images_0, images_1), axis=0)\n",
    "labels=np.concatenate((labels_0, labels_1), axis=0)\n",
    "print(images.shape,labels.shape)\n",
    "mat = pd.concat([pd.DataFrame(images), pd.DataFrame(labels)], axis=1)\n",
    "mat.columns = ['image','label']\n",
    "mat['image_array'] = mat['image'].apply(lambda x: np.array(cv2.imread(x,0).flatten()))\n",
    "mat['image_shape'] = mat['image_array'].apply(lambda x: x.shape[0])\n"
   ]
  },
  {
   "cell_type": "code",
   "execution_count": null,
   "id": "ed6161e7",
   "metadata": {},
   "outputs": [],
   "source": [
    "print(mat.shape)\n",
    "mat.head()"
   ]
  },
  {
   "cell_type": "code",
   "execution_count": null,
   "id": "21ffd0d2",
   "metadata": {},
   "outputs": [],
   "source": [
    "mat['image_shape'].value_counts() "
   ]
  },
  {
   "cell_type": "code",
   "execution_count": null,
   "id": "912beb9f",
   "metadata": {},
   "outputs": [],
   "source": [
    "weird_imgs = mat[mat['image_shape'] != 2500] \n",
    "mat.drop(weird_imgs.index,inplace=True) \n",
    "mat['image_shape'].value_counts() "
   ]
  },
  {
   "cell_type": "code",
   "execution_count": null,
   "id": "870637df",
   "metadata": {},
   "outputs": [],
   "source": [
    "mat.drop(columns=['image_shape','image'],inplace=True)\n",
    "mat.to_csv(\"../data/train_image.csv\",index=False)\n"
   ]
  },
  {
   "cell_type": "code",
   "execution_count": null,
   "id": "e3e68454",
   "metadata": {},
   "outputs": [],
   "source": [
    "import utils\n",
    "x_train,x_test,y_train,y_test=utils.load_standard_data()\n",
    "mat.image_array[0][0]"
   ]
  },
  {
   "cell_type": "code",
   "execution_count": null,
   "id": "468887ef",
   "metadata": {},
   "outputs": [],
   "source": [
    "print(x_train.shape,y_train.shape)\n",
    "print(x_test.shape,y_test.shape)\n",
    "x_train.head()"
   ]
  },
  {
   "cell_type": "code",
   "execution_count": null,
   "id": "1a185639",
   "metadata": {},
   "outputs": [],
   "source": [
    "sns.set()\n",
    "sns.countplot(y_test, palette=\"Set2\");"
   ]
  },
  {
   "cell_type": "code",
   "execution_count": null,
   "id": "14b78c2e",
   "metadata": {},
   "outputs": [],
   "source": [
    "temp = x_train[0]\n",
    "print(temp[0])\n",
    "fig, ax = plt.subplots()\n",
    "image = cv2.imread(temp)\n",
    "plt.imshow(image)\n",
    "ax.axis(\"off\")\n",
    "temp =x_train[1].reshape((50,50))\n",
    "image = cv2.imread(temp)\n",
    "fig, ax = plt.subplots()\n",
    "plt.imshow(temp)\n",
    "ax.axis(\"off\")"
   ]
  },
  {
   "cell_type": "code",
   "execution_count": null,
   "id": "11be61aa",
   "metadata": {},
   "outputs": [],
   "source": []
  },
  {
   "cell_type": "code",
   "execution_count": null,
   "id": "bcda7afe",
   "metadata": {},
   "outputs": [],
   "source": []
  },
  {
   "cell_type": "code",
   "execution_count": null,
   "id": "99f6b41e",
   "metadata": {},
   "outputs": [],
   "source": []
  }
 ],
 "metadata": {
  "kernelspec": {
   "display_name": "Python 3 (ipykernel)",
   "language": "python",
   "name": "python3"
  },
  "language_info": {
   "codemirror_mode": {
    "name": "ipython",
    "version": 3
   },
   "file_extension": ".py",
   "mimetype": "text/x-python",
   "name": "python",
   "nbconvert_exporter": "python",
   "pygments_lexer": "ipython3",
   "version": "3.9.7"
  }
 },
 "nbformat": 4,
 "nbformat_minor": 5
}
