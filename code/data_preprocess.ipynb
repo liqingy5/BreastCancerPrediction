{
 "cells": [
  {
   "cell_type": "code",
   "execution_count": null,
   "id": "bf413459",
   "metadata": {},
   "outputs": [],
   "source": [
    "import os\n",
    "import numpy as np \n",
    "import pandas as pd \n",
    "from PIL import Image\n",
    "import matplotlib.pylab as plt\n",
    "import cv2\n",
    "import seaborn as sns\n",
    "from glob import glob\n",
    "import pickle\n",
    "__foldername0__ = \"../data/0/\"\n",
    "__foldername1__ = \"../data/1/\"\n",
    "imagePatches_0 = glob(f'{__foldername0__}/*.png', recursive=True)\n",
    "imagePatches_1 = glob(f'{__foldername1__}/*.png', recursive=True)"
   ]
  },
  {
   "cell_type": "code",
   "execution_count": null,
   "id": "85a96b7c",
   "metadata": {},
   "outputs": [],
   "source": [
    "def fetch_images(imagePatches_0,imagePatches_1):\n",
    "    images=[]\n",
    "    labels=[]\n",
    "    for i in imagePatches_0:\n",
    "        label=0\n",
    "        img=cv2.imread(i,0)\n",
    "        images.append(img)\n",
    "        labels.append(label)\n",
    "    for i in imagePatches_1:\n",
    "        label=1\n",
    "        img=cv2.imread(i,0)\n",
    "        images.append(img)\n",
    "        labels.append(label)\n",
    "    return images,labels"
   ]
  },
  {
   "cell_type": "code",
   "execution_count": null,
   "id": "a95b16a9",
   "metadata": {},
   "outputs": [],
   "source": [
    "images,labels = fetch_images(imagePatches_0,imagePatches_1)\n",
    "mat = pd.DataFrame()\n",
    "mat[\"images\"]=images\n",
    "mat[\"labels\"]=labels\n",
    "mat[\"images\"] = mat[\"images\"].apply(lambda x: x.flatten())\n",
    "mat['image_shape'] = mat['images'].apply(lambda x: x.shape[0])"
   ]
  },
  {
   "cell_type": "code",
   "execution_count": null,
   "id": "ed6161e7",
   "metadata": {},
   "outputs": [],
   "source": [
    "print(mat.shape)\n",
    "mat.head()"
   ]
  },
  {
   "cell_type": "code",
   "execution_count": null,
   "id": "21ffd0d2",
   "metadata": {},
   "outputs": [],
   "source": [
    "mat['image_shape'].value_counts() "
   ]
  },
  {
   "cell_type": "code",
   "execution_count": null,
   "id": "912beb9f",
   "metadata": {},
   "outputs": [],
   "source": [
    "weird_imgs = mat[mat['image_shape'] != 2500] \n",
    "mat.drop(weird_imgs.index,inplace=True) \n",
    "mat"
   ]
  },
  {
   "cell_type": "code",
   "execution_count": null,
   "id": "870637df",
   "metadata": {},
   "outputs": [],
   "source": [
    "mat.drop(columns=['image_shape'],inplace=True)\n",
    "pickle.dump(mat,open(\"../data/train_images.pkl\",\"wb\"))"
   ]
  },
  {
   "cell_type": "code",
   "execution_count": null,
   "id": "e3e68454",
   "metadata": {},
   "outputs": [],
   "source": [
    "import utils\n",
    "x_train,x_test,y_train,y_test=utils.load_standard_data()"
   ]
  },
  {
   "cell_type": "code",
   "execution_count": null,
   "id": "468887ef",
   "metadata": {},
   "outputs": [],
   "source": [
    "print(x_train.shape,y_train.shape)\n",
    "print(x_test.shape,y_test.shape)\n",
    "x_test.head()"
   ]
  },
  {
   "cell_type": "code",
   "execution_count": null,
   "id": "1a185639",
   "metadata": {},
   "outputs": [],
   "source": [
    "sns.set()\n",
    "sns.countplot(y_test, palette=\"Set2\");"
   ]
  },
  {
   "cell_type": "code",
   "execution_count": null,
   "id": "14b78c2e",
   "metadata": {},
   "outputs": [],
   "source": [
    "temp = x_train.values[0]\n",
    "fig, ax = plt.subplots()\n",
    "temp = temp.reshape((50,50))\n",
    "plt.imshow(temp)\n",
    "ax.axis(\"off\")\n",
    "temp = x_test.values[0]\n",
    "fig, ax = plt.subplots()\n",
    "temp = temp.reshape((50,50))\n",
    "plt.imshow(temp)\n",
    "ax.axis(\"off\")"
   ]
  },
  {
   "cell_type": "code",
   "execution_count": null,
   "id": "11be61aa",
   "metadata": {},
   "outputs": [],
   "source": []
  },
  {
   "cell_type": "code",
   "execution_count": null,
   "id": "bcda7afe",
   "metadata": {},
   "outputs": [],
   "source": []
  },
  {
   "cell_type": "code",
   "execution_count": null,
   "id": "99f6b41e",
   "metadata": {},
   "outputs": [],
   "source": []
  }
 ],
 "metadata": {
  "kernelspec": {
   "display_name": "Python 3 (ipykernel)",
   "language": "python",
   "name": "python3"
  },
  "language_info": {
   "codemirror_mode": {
    "name": "ipython",
    "version": 3
   },
   "file_extension": ".py",
   "mimetype": "text/x-python",
   "name": "python",
   "nbconvert_exporter": "python",
   "pygments_lexer": "ipython3",
   "version": "3.9.7"
  }
 },
 "nbformat": 4,
 "nbformat_minor": 5
}
