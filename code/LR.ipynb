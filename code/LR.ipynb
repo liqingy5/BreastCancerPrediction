{
 "cells": [
  {
   "cell_type": "code",
   "execution_count": null,
   "id": "a7ad3c2b",
   "metadata": {},
   "outputs": [],
   "source": [
    "import numpy as np\n",
    "import matplotlib.pyplot as plt\n",
    "import pandas as pd\n",
    "import pickle\n",
    "import Evaluation as eva\n",
    "### ML Classification models\n",
    "from sklearn.linear_model import LogisticRegression  # Log reg\n",
    "filename = '../models/LR.model'\n"
   ]
  },
  {
   "cell_type": "markdown",
   "id": "59c85d2e",
   "metadata": {},
   "source": [
    "### Load dataset"
   ]
  },
  {
   "cell_type": "code",
   "execution_count": null,
   "id": "ecd9f0d0",
   "metadata": {},
   "outputs": [],
   "source": [
    "import utils\n",
    "x_train,x_test,y_train,y_test=utils.load_standard_data()"
   ]
  },
  {
   "cell_type": "markdown",
   "id": "43b0bd5a",
   "metadata": {},
   "source": [
    "### Log reg model"
   ]
  },
  {
   "cell_type": "code",
   "execution_count": null,
   "id": "bad011ea",
   "metadata": {},
   "outputs": [],
   "source": [
    "# initialize a LogReg model\n",
    "logreg = LogisticRegression(penalty='l1', solver='saga') # use LASSO to filter features \n"
   ]
  },
  {
   "cell_type": "code",
   "execution_count": null,
   "id": "dfa47da2",
   "metadata": {},
   "outputs": [],
   "source": [
    "# train the Logreg model\n",
    "model = logreg.fit(x_train, y_train)"
   ]
  },
  {
   "cell_type": "markdown",
   "id": "3c14a1e2",
   "metadata": {},
   "source": [
    "### Export model"
   ]
  },
  {
   "cell_type": "code",
   "execution_count": null,
   "id": "7a427c15",
   "metadata": {},
   "outputs": [],
   "source": [
    "# save the model to disk\n",
    "pickle.dump(model, open(filename, 'wb'))"
   ]
  },
  {
   "cell_type": "code",
   "execution_count": null,
   "id": "84eb497e",
   "metadata": {},
   "outputs": [],
   "source": [
    "\n"
   ]
  },
  {
   "cell_type": "code",
   "execution_count": null,
   "id": "a6938f1f",
   "metadata": {},
   "outputs": [],
   "source": []
  },
  {
   "cell_type": "code",
   "execution_count": null,
   "id": "6e44440b",
   "metadata": {},
   "outputs": [],
   "source": []
  },
  {
   "cell_type": "code",
   "execution_count": null,
   "id": "d0a2655d",
   "metadata": {},
   "outputs": [],
   "source": []
  }
 ],
 "metadata": {
  "kernelspec": {
   "display_name": "Python 3 (ipykernel)",
   "language": "python",
   "name": "python3"
  },
  "language_info": {
   "codemirror_mode": {
    "name": "ipython",
    "version": 3
   },
   "file_extension": ".py",
   "mimetype": "text/x-python",
   "name": "python",
   "nbconvert_exporter": "python",
   "pygments_lexer": "ipython3",
   "version": "3.9.7"
  }
 },
 "nbformat": 4,
 "nbformat_minor": 5
}
