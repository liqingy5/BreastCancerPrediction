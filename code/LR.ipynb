{
 "cells": [
  {
   "cell_type": "code",
   "execution_count": null,
   "id": "a7ad3c2b",
   "metadata": {},
   "outputs": [],
   "source": [
    "import pickle\n",
    "### ML Classification models\n",
    "from sklearn.linear_model import LogisticRegression  # Log reg\n",
    "filename = '../models/LR_oversampled.model'\n",
    "_type_ = 'oversampled'\n",
    "import os\n",
    "if not os.path.exists('../models'):\n",
    "    os.makedirs(\"../models\")"
   ]
  },
  {
   "cell_type": "markdown",
   "id": "59c85d2e",
   "metadata": {},
   "source": [
    "### Load dataset"
   ]
  },
  {
   "cell_type": "markdown",
   "id": "b0b2529d",
   "metadata": {},
   "source": [
    "### Standard Dataset"
   ]
  },
  {
   "cell_type": "code",
   "execution_count": null,
   "id": "ecd9f0d0",
   "metadata": {},
   "outputs": [],
   "source": [
    "import utils\n",
    "x_train,x_test,y_train,y_test=utils.load_standard_data(data_type=_type_)"
   ]
  },
  {
   "cell_type": "markdown",
   "id": "728e8852",
   "metadata": {},
   "source": [
    "### Oversampled"
   ]
  },
  {
   "cell_type": "markdown",
   "id": "43b0bd5a",
   "metadata": {},
   "source": [
    "### Log reg model"
   ]
  },
  {
   "cell_type": "code",
   "execution_count": null,
   "id": "bad011ea",
   "metadata": {},
   "outputs": [],
   "source": [
    "\n",
    "logreg = LogisticRegression(penalty='l1', solver='saga') # use LASSO to filter features \n",
    "    # train the Logreg model\n",
    "model = logreg.fit(x_train, y_train)\n",
    "from sklearn.metrics import roc_auc_score\n",
    "probs_predict = model.predict_proba(x_test)\n",
    "probs_predict = probs_predict[:,1]\n",
    "auc = roc_auc_score(y_test,probs_predict)\n",
    "print(auc)\n"
   ]
  },
  {
   "cell_type": "markdown",
   "id": "3c14a1e2",
   "metadata": {},
   "source": [
    "### Export model"
   ]
  },
  {
   "cell_type": "code",
   "execution_count": null,
   "id": "7a427c15",
   "metadata": {},
   "outputs": [],
   "source": [
    "# save the model to disk\n",
    "pickle.dump(model, open(filename, 'wb'))"
   ]
  },
  {
   "cell_type": "code",
   "execution_count": null,
   "id": "84eb497e",
   "metadata": {},
   "outputs": [],
   "source": [
    "\n"
   ]
  },
  {
   "cell_type": "code",
   "execution_count": null,
   "id": "a6938f1f",
   "metadata": {},
   "outputs": [],
   "source": []
  },
  {
   "cell_type": "code",
   "execution_count": null,
   "id": "6e44440b",
   "metadata": {},
   "outputs": [],
   "source": []
  },
  {
   "cell_type": "code",
   "execution_count": null,
   "id": "d0a2655d",
   "metadata": {},
   "outputs": [],
   "source": []
  }
 ],
 "metadata": {
  "kernelspec": {
   "display_name": "Python 3 (ipykernel)",
   "language": "python",
   "name": "python3"
  },
  "language_info": {
   "codemirror_mode": {
    "name": "ipython",
    "version": 3
   },
   "file_extension": ".py",
   "mimetype": "text/x-python",
   "name": "python",
   "nbconvert_exporter": "python",
   "pygments_lexer": "ipython3",
   "version": "3.9.7"
  }
 },
 "nbformat": 4,
 "nbformat_minor": 5
}
