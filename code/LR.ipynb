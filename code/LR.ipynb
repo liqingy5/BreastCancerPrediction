{
 "cells": [
  {
   "cell_type": "code",
   "execution_count": null,
   "id": "a7ad3c2b",
   "metadata": {},
   "outputs": [],
   "source": [
    "import numpy as np\n",
    "import matplotlib.pyplot as plt\n",
    "import pandas as pd\n",
    "import pickle\n",
    "from sklearn.preprocessing import StandardScaler  \n",
    "import Evaluation as eva\n",
    "### ML Classification models\n",
    "from sklearn.linear_model import LogisticRegression  # Log reg\n",
    "filename = '../models/LR.model'\n"
   ]
  },
  {
   "cell_type": "code",
   "execution_count": null,
   "id": "ecd9f0d0",
   "metadata": {},
   "outputs": [],
   "source": [
    "x_train=np.load(\"../data/x_train.npy\")\n",
    "y_train=np.load(\"../data/y_train.npy\")\n",
    "\n",
    "train_x = []\n",
    "test_x = []\n",
    "for t in x_train:\n",
    "    train_x.append(t.flatten())\n",
    "x_train = train_x"
   ]
  },
  {
   "cell_type": "code",
   "execution_count": null,
   "id": "bad011ea",
   "metadata": {},
   "outputs": [],
   "source": [
    "# initialize a LogReg model\n",
    "logreg = LogisticRegression(penalty='l1', solver='saga') # use LASSO to filter features \n"
   ]
  },
  {
   "cell_type": "code",
   "execution_count": null,
   "id": "dfa47da2",
   "metadata": {},
   "outputs": [],
   "source": [
    "# train the Logreg model\n",
    "model = logreg.fit(x_train, y_train)"
   ]
  },
  {
   "cell_type": "code",
   "execution_count": null,
   "id": "7a427c15",
   "metadata": {},
   "outputs": [],
   "source": [
    "# save the model to disk\n",
    "pickle.dump(model, open(filename, 'wb'))"
   ]
  },
  {
   "cell_type": "code",
   "execution_count": null,
   "id": "84eb497e",
   "metadata": {},
   "outputs": [],
   "source": [
    "# Load the Model back from file\n",
    "with open(filename, 'rb') as file:  \n",
    "    model = pickle.load(file)\n",
    "\n"
   ]
  },
  {
   "cell_type": "code",
   "execution_count": null,
   "id": "a6938f1f",
   "metadata": {},
   "outputs": [],
   "source": [
    "eva.evaluate(\"LR\")"
   ]
  },
  {
   "cell_type": "code",
   "execution_count": null,
   "id": "6e44440b",
   "metadata": {},
   "outputs": [],
   "source": []
  },
  {
   "cell_type": "code",
   "execution_count": null,
   "id": "d0a2655d",
   "metadata": {},
   "outputs": [],
   "source": []
  }
 ],
 "metadata": {
  "kernelspec": {
   "display_name": "Python 3 (ipykernel)",
   "language": "python",
   "name": "python3"
  },
  "language_info": {
   "codemirror_mode": {
    "name": "ipython",
    "version": 3
   },
   "file_extension": ".py",
   "mimetype": "text/x-python",
   "name": "python",
   "nbconvert_exporter": "python",
   "pygments_lexer": "ipython3",
   "version": "3.9.7"
  }
 },
 "nbformat": 4,
 "nbformat_minor": 5
}
