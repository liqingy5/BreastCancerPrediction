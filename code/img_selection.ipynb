{
 "cells": [
  {
   "cell_type": "code",
   "execution_count": 21,
   "id": "dbcd9f5f",
   "metadata": {},
   "outputs": [],
   "source": [
    "import os\n",
    "import shutil\n",
    "from glob import glob\n",
    "import numpy as np\n",
    "import cv2\n",
    "destination_folder_0 = \"..\\data\\0\"\n",
    "destination_folder_1 = \"..\\data\\1\""
   ]
  },
  {
   "cell_type": "code",
   "execution_count": 22,
   "id": "978f3113",
   "metadata": {},
   "outputs": [],
   "source": [
    "imagePatches = glob('../IDC_regular_ps50_idx5/**/*.png', recursive=True)"
   ]
  },
  {
   "cell_type": "code",
   "execution_count": null,
   "id": "07fe3a55",
   "metadata": {},
   "outputs": [],
   "source": [
    "images=[]\n",
    "labels=[]\n",
    "class_0=0\n",
    "class_1=0\n",
    "for i in imagePatches:\n",
    "    if i.endswith('.png'):\n",
    "        label=i[-5]\n",
    "        if(class_0==7160 and class_1==2840):\n",
    "            break\n",
    "        if(label=='0' and class_0==7160):\n",
    "            continue\n",
    "        if(label=='1' and class_1==2840):\n",
    "            continue\n",
    "        img=cv2.imread(i)\n",
    "        images.append(img)\n",
    "        labels.append(label)\n",
    "        if(label=='0'):\n",
    "            class_0+=1\n",
    "            shutil.move(i,destination_folder_0)\n",
    "        else:\n",
    "            class_1+=1\n",
    "            shutil.move(i,destination_folder_1)"
   ]
  },
  {
   "cell_type": "code",
   "execution_count": null,
   "id": "0af2433c",
   "metadata": {},
   "outputs": [],
   "source": []
  },
  {
   "cell_type": "code",
   "execution_count": null,
   "id": "6675c9f9",
   "metadata": {},
   "outputs": [],
   "source": []
  }
 ],
 "metadata": {
  "kernelspec": {
   "display_name": "Python 3 (ipykernel)",
   "language": "python",
   "name": "python3"
  },
  "language_info": {
   "codemirror_mode": {
    "name": "ipython",
    "version": 3
   },
   "file_extension": ".py",
   "mimetype": "text/x-python",
   "name": "python",
   "nbconvert_exporter": "python",
   "pygments_lexer": "ipython3",
   "version": "3.9.7"
  }
 },
 "nbformat": 4,
 "nbformat_minor": 5
}
