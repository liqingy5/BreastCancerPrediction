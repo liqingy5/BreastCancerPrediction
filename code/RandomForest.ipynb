{
 "cells": [
  {
   "cell_type": "code",
   "execution_count": 1,
   "metadata": {},
   "outputs": [],
   "source": [
    "import numpy as np\n",
    "import matplotlib.pyplot as plt\n",
    "import pandas as pd\n",
    "import pickle\n",
    "import Evaluation as eva\n",
    "### ML Classification models\n",
    "from sklearn.ensemble import RandomForestClassifier\n",
    "filename = 'RandomForest_oversampled'\n",
    "_type_='oversampled'"
   ]
  },
  {
   "cell_type": "code",
   "execution_count": 2,
   "metadata": {},
   "outputs": [],
   "source": [
    "import utils\n",
    "x_train, x_test, y_train, y_test = utils.load_standard_data(data_type=_type_)\n",
    "estimators=np.arange(100,500,50)"
   ]
  },
  {
   "cell_type": "code",
   "execution_count": 3,
   "metadata": {},
   "outputs": [
    {
     "name": "stdout",
     "output_type": "stream",
     "text": [
      "0.8539025247879312\n"
     ]
    }
   ],
   "source": [
    "forest = RandomForestClassifier(n_estimators=250, max_depth=None)\n",
    "forest.fit(x_train, y_train)\n",
    "from sklearn.metrics import roc_auc_score\n",
    "y_pred_test = forest.predict(x_test)\n",
    "probs_predict = forest.predict_proba(x_test)\n",
    "probs_predict = probs_predict[:,1]\n",
    "auc = roc_auc_score(y_test,probs_predict)\n",
    "print(auc)"
   ]
  },
  {
   "cell_type": "code",
   "execution_count": 4,
   "metadata": {},
   "outputs": [],
   "source": [
    "# save the model to disk\n",
    "pickle.dump(forest, open(f'../models/{filename}.model', 'wb'))"
   ]
  }
 ],
 "metadata": {
  "interpreter": {
   "hash": "cc5f70855ac006f3de45a3cc3b9e7d8d53845e50458809cb162b0174266dec97"
  },
  "kernelspec": {
   "display_name": "Python 3.9.7 ('base')",
   "language": "python",
   "name": "python3"
  },
  "language_info": {
   "codemirror_mode": {
    "name": "ipython",
    "version": 3
   },
   "file_extension": ".py",
   "mimetype": "text/x-python",
   "name": "python",
   "nbconvert_exporter": "python",
   "pygments_lexer": "ipython3",
   "version": "3.9.7"
  },
  "orig_nbformat": 4
 },
 "nbformat": 4,
 "nbformat_minor": 2
}
